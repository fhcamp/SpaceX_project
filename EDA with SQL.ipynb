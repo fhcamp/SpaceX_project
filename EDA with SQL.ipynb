{
 "cells": [
  {
   "cell_type": "markdown",
   "metadata": {},
   "source": [
    "As the notebook directly from Watson studio contains password information, the SQL code for this section can be found here, with the results thereof in the presentation."
   ]
  },
  {
   "cell_type": "markdown",
   "metadata": {},
   "source": [
    "Task 1\n",
    "Display the names of the unique launch sites in the space mission"
   ]
  },
  {
   "cell_type": "code",
   "execution_count": null,
   "metadata": {},
   "outputs": [],
   "source": [
    "task_1 = ''' \n",
    "SELECT DISTINCT \n",
    "    Launch_Site\n",
    "FROM spacex\n",
    "'''\n",
    "create_pandas_df(task_1, database=conn)"
   ]
  },
  {
   "cell_type": "markdown",
   "metadata": {},
   "source": [
    "Task 2\n",
    "Display 5 records where launch sites begin with the string 'KSC'"
   ]
  },
  {
   "cell_type": "code",
   "execution_count": null,
   "metadata": {},
   "outputs": [],
   "source": [
    "task_2 = '''\n",
    "SELECT \n",
    "    *\n",
    "FROM spacex\n",
    "WHERE \n",
    "    Launch_Site LIKE 'KSC%'\n",
    "LIMIT 5\n",
    "        ''' \n",
    "create_pandas_df(task_2, databsae=conn)"
   ]
  },
  {
   "cell_type": "markdown",
   "metadata": {},
   "source": [
    "Task 3\n",
    "Display the total payload mass carried by boosters launched by NASA (CRS)"
   ]
  },
  {
   "cell_type": "code",
   "execution_count": null,
   "metadata": {},
   "outputs": [],
   "source": [
    "task_3 = ''' \n",
    "SELECT \n",
    "    SUM(PAYLOAD_MASS__KG_) AS Total_PayloadMass\n",
    "FROM spacex\n",
    "WHERE \n",
    "    Customer LIKE 'NASA (CRS)'\n",
    "'''\n",
    "create_pandas_df(task_3, database=conn)"
   ]
  },
  {
   "cell_type": "markdown",
   "metadata": {},
   "source": [
    "Task 4\n",
    "Display average payload mass carried by booster version F9 v1.1"
   ]
  },
  {
   "cell_type": "code",
   "execution_count": null,
   "metadata": {},
   "outputs": [],
   "source": [
    "task_4 = ''' \n",
    "SELECT \n",
    "    AVG(PAYLOAD_MASS__KG_) AS AVG_PayloadMass\n",
    "FROM spacex\n",
    "WHERE \n",
    "    Booster_Version = 'F9 v1.1'\n",
    "'''\n",
    "create_pandas_df(task_4, database=conn)"
   ]
  },
  {
   "cell_type": "markdown",
   "metadata": {},
   "source": [
    "Task 5\n",
    "List the date where the first successful landing outcome in drone ship was acheived."
   ]
  },
  {
   "cell_type": "code",
   "execution_count": null,
   "metadata": {},
   "outputs": [],
   "source": [
    "task_5 = ''' \n",
    "SELECT \n",
    "        MIN(date) AS FirstSuccessful_landing_date\n",
    "FROM SpaceX\n",
    "WHERE \n",
    "        Landing_Outcome = 'Success (drone ship)'\n",
    "'''\n",
    "create_pandas_df(task_5, database=conn)"
   ]
  },
  {
   "cell_type": "markdown",
   "metadata": {},
   "source": [
    "Task 6\n",
    "List the names of the boosters which have success in ground pad and have payload mass greater than 4000 but less than 6000"
   ]
  },
  {
   "cell_type": "code",
   "execution_count": null,
   "metadata": {},
   "outputs": [],
   "source": [
    "task_6 = ''' \n",
    "SELECT \n",
    "    Booster_Version\n",
    "FROM spacex\n",
    "WHERE \n",
    "    Landing_Outcome = 'Success (ground pad)'\n",
    "    AND PAYLOAD_MASS__KG_ > 4000\n",
    "    AND PAYLOAD_MASS__KG_ < 6000\n",
    "'''\n",
    "create_pandas_df(task_6, database=conn)"
   ]
  },
  {
   "cell_type": "markdown",
   "metadata": {},
   "source": [
    "Presentation requires:\n",
    "List the names of the boosters which have success on drone ship landing and have payload mass greater than 4000 but less than 6000"
   ]
  },
  {
   "cell_type": "code",
   "execution_count": null,
   "metadata": {},
   "outputs": [],
   "source": [
    "slides = ''' \n",
    "SELECT \n",
    "    Booster_Version\n",
    "FROM spacex\n",
    "WHERE \n",
    "    Landing_Outcome = 'Success (drone ship)'\n",
    "    AND PAYLOAD_MASS__KG_ > 4000\n",
    "    AND PAYLOAD_MASS__KG_ < 6000\n",
    "'''\n",
    "create_pandas_df(slides, database=conn)"
   ]
  },
  {
   "cell_type": "markdown",
   "metadata": {},
   "source": [
    "Task 7\n",
    "List the total number of successful and failure mission outcomes"
   ]
  },
  {
   "cell_type": "code",
   "execution_count": null,
   "metadata": {},
   "outputs": [],
   "source": [
    "task_7 = '''\n",
    "        SELECT \n",
    "        CASE\n",
    "            WHEN Mission_Outcome LIKE 'Success%' THEN 'Success'\n",
    "            ELSE 'Failure'\n",
    "        END AS mission_outcome,\n",
    "        COUNT(*) AS outcome_count\n",
    "        FROM spacex\n",
    "        GROUP BY \n",
    "        CASE\n",
    "            WHEN Mission_Outcome LIKE 'Success%' THEN 'Success'\n",
    "            ELSE 'Failure'\n",
    "        END\n",
    "        ''' \n",
    "create_pandas_df(task_7, databsae=conn)"
   ]
  },
  {
   "cell_type": "markdown",
   "metadata": {},
   "source": [
    "Task 8\n",
    "List the names of the booster_versions which have carried the maximum payload mass. Use a subquery"
   ]
  },
  {
   "cell_type": "code",
   "execution_count": null,
   "metadata": {},
   "outputs": [],
   "source": [
    "task_8 = ''' \n",
    "SELECT \n",
    "    Booster_Version, \n",
    "    PAYLOAD_MASS__KG_\n",
    "FROM spacex\n",
    "WHERE PAYLOAD_MASS__KG_ = (\n",
    "                        SELECT \n",
    "                            MAX(PAYLOAD_MASS__KG_)\n",
    "                        FROM spacex\n",
    "                        )\n",
    "ORDER BY Booster_Version\n",
    "'''\n",
    "create_pandas_df(task_8, database=conn)"
   ]
  },
  {
   "cell_type": "markdown",
   "metadata": {},
   "source": [
    "Task 9\n",
    "List the records which will display the month names, succesful landing_outcomes in ground pad ,booster versions, launch_site for the months in year 2017"
   ]
  },
  {
   "cell_type": "code",
   "execution_count": null,
   "metadata": {},
   "outputs": [],
   "source": [
    "task_9 = '''\n",
    "SELECT \n",
    "    date_format(date,'MMMM') AS month_name,\n",
    "    Landing_Outcome,\n",
    "    Booster_Version,\n",
    "    Launch_Site\n",
    "FROM spacex\n",
    "WHERE\n",
    "    Landing_Outcome = 'Success (ground pad)'\n",
    "    AND date_format(date,'yyyy') = '2017'\n",
    "ORDER BY month(date)\n",
    "        ''' \n",
    "create_pandas_df(task_9, databsae=conn)"
   ]
  },
  {
   "cell_type": "markdown",
   "metadata": {},
   "source": [
    "Task 10\n",
    "Rank the count of successful landing_outcomes between the date 2010-06-04 and 2017-03-20 in descending order."
   ]
  },
  {
   "cell_type": "code",
   "execution_count": null,
   "metadata": {},
   "outputs": [],
   "source": [
    "task_10 = ''' \n",
    "SELECT \n",
    "    Landing_Outcome, \n",
    "    COUNT(Landing_Outcome)\n",
    "FROM spacex\n",
    "WHERE \n",
    "    new_date BETWEEN '2010-06-04' AND '2017-03-20'\n",
    "GROUP BY\n",
    "    Landing_Outcome\n",
    "ORDER BY \n",
    "    COUNT(Landing_Outcome) DESC\n",
    "'''\n",
    "create_pandas_df(task_10, database=conn)"
   ]
  }
 ],
 "metadata": {
  "kernelspec": {
   "display_name": "Python 3.9.7 ('base')",
   "language": "python",
   "name": "python3"
  },
  "language_info": {
   "name": "python",
   "version": "3.9.7"
  },
  "orig_nbformat": 4,
  "vscode": {
   "interpreter": {
    "hash": "9e54abd2ae577af13b930988df6b4d82aea62f5d4254991d94e9804f2c85624b"
   }
  }
 },
 "nbformat": 4,
 "nbformat_minor": 2
}
